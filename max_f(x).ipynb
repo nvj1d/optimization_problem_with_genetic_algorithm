{
  "nbformat": 4,
  "nbformat_minor": 0,
  "metadata": {
    "colab": {
      "name": "max_f(x).ipynb",
      "provenance": [],
      "authorship_tag": "ABX9TyN1n8J0D1GOWOA0t2fgxBqm"
    },
    "kernelspec": {
      "name": "python3",
      "display_name": "Python 3"
    },
    "language_info": {
      "name": "python"
    }
  },
  "cells": [
    {
      "cell_type": "code",
      "execution_count": 181,
      "metadata": {
        "id": "IKAglcHYlRxp"
      },
      "outputs": [],
      "source": [
        "import numpy as np \n",
        "from scipy.spatial.distance import cdist\n",
        "import matplotlib.pyplot as plt"
      ]
    },
    {
      "cell_type": "code",
      "source": [
        "POPULATION_SIZE = 10\n",
        "N_GENERATIONS = 20\n",
        "MUTAION_RATE = 1/8"
      ],
      "metadata": {
        "id": "SARYP2f2yKoT"
      },
      "execution_count": 182,
      "outputs": []
    },
    {
      "cell_type": "markdown",
      "source": [
        "![1_jyxo565NivgKd1GIioOwEA.png](data:image/png;base64,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)"
      ],
      "metadata": {
        "id": "kurPHw3BD0R6"
      }
    },
    {
      "cell_type": "code",
      "source": [
        "x = np.linspace(0,255,255)\n",
        "y = np.sin(x / 256 * np.pi)\n",
        "# plot the function\n",
        "plt.plot(x,y, 'r')\n",
        "\n",
        "# show the plot\n",
        "plt.show()"
      ],
      "metadata": {
        "colab": {
          "base_uri": "https://localhost:8080/",
          "height": 265
        },
        "id": "ImGLDBx44dLG",
        "outputId": "d9e121d3-23c5-4025-8c6e-0b4e51893092"
      },
      "execution_count": 183,
      "outputs": [
        {
          "output_type": "display_data",
          "data": {
            "text/plain": [
              "<Figure size 432x288 with 1 Axes>"
            ],
            "image/png": "[encoded data removed]"
          },
          "metadata": {
            "needs_background": "light"
          }
        }
      ]
    },
    {
      "cell_type": "code",
      "source": [
        "def to_int(x):\n",
        "  return (x * [128, 64, 32, 16, 8, 4, 2, 1]).sum()"
      ],
      "metadata": {
        "id": "n7MNNLCkCyJW"
      },
      "execution_count": 184,
      "outputs": []
    },
    {
      "cell_type": "code",
      "source": [
        "def evaluate(x):\n",
        "    y = to_int(x)\n",
        "    return np.sin(y / 256 * np.pi)"
      ],
      "metadata": {
        "id": "6TEv01vnlfhP"
      },
      "execution_count": 185,
      "outputs": []
    },
    {
      "cell_type": "code",
      "source": [
        "def randpop(n):\n",
        "  pop = []\n",
        "  for i in range(n):\n",
        "    pop.append(np.random.choice([0,1],size=8))\n",
        "  return pop"
      ],
      "metadata": {
        "id": "M6xy12Hnl3LP"
      },
      "execution_count": 186,
      "outputs": []
    },
    {
      "cell_type": "code",
      "source": [
        "def select(population_size,n_parents):\n",
        "  s = []\n",
        "  for i in range(population_size):\n",
        "    if np.random.choice([0,1]) == 1:\n",
        "      s.append(i)\n",
        "  l = []\n",
        "  for i in range(len(s)):\n",
        "    l.append(np.random.choice(s,size=2))\n",
        "  return l\n",
        "def select1(n_matings, n_parents):\n",
        "    return np.random.randint(0, n_matings, (n_matings, n_parents))"
      ],
      "metadata": {
        "id": "y7TI9BurmlMm"
      },
      "execution_count": 187,
      "outputs": []
    },
    {
      "cell_type": "code",
      "source": [
        "def crossover(a, b):\n",
        "  offspring = []\n",
        "  for i in range(len(a)):\n",
        "    if np.random.choice([0,1]) == 1:\n",
        "      offspring.append(a[i])\n",
        "    else :\n",
        "      offspring.append(b[i])\n",
        "  return offspring"
      ],
      "metadata": {
        "id": "vPSko8uPyiIN"
      },
      "execution_count": 188,
      "outputs": []
    },
    {
      "cell_type": "code",
      "source": [
        "def mutation(o):\n",
        "  off = []\n",
        "  for i in range(len(o)):\n",
        "    if np.random.rand() > MUTAION_RATE:\n",
        "      off.append(o[i])\n",
        "    else :\n",
        "      if o[i] == 1:\n",
        "        off.append(0)\n",
        "      else :\n",
        "        off.append(1)\n",
        "  return off"
      ],
      "metadata": {
        "id": "V_a4VwLjwzxb"
      },
      "execution_count": 189,
      "outputs": []
    },
    {
      "cell_type": "code",
      "source": [
        "def survival(f, n_survivors):\n",
        "    return np.argsort(-f)[:n_survivors]"
      ],
      "metadata": {
        "id": "nc89ClsQ0HRw"
      },
      "execution_count": 190,
      "outputs": []
    },
    {
      "cell_type": "code",
      "source": [
        "def eliminate_duplicates(X):\n",
        "    D = cdist(X, X)\n",
        "    D[np.triu_indices(len(X))] = np.inf\n",
        "    return np.all(D > 1e-32, axis=1)"
      ],
      "metadata": {
        "id": "eQMXBELV105-"
      },
      "execution_count": 191,
      "outputs": []
    },
    {
      "cell_type": "code",
      "source": [
        "np.random.seed(1)\n",
        "\n",
        "X = randpop(N_GENERATIONS)\n",
        "Y = np.array([evaluate(x) for x in X])\n",
        "\n",
        "for k in range(N_GENERATIONS):\n",
        "   parents = select(POPULATION_SIZE, 2)\n",
        "   \n",
        "   #mutate the new genration\n",
        "   _X = np.array([mutation(crossover(X[a], X[b])) for a, b in parents])\n",
        "   \n",
        "   # values of the new generation\n",
        "   _Y = np.array([evaluate(x) for x in _X])\n",
        "   \n",
        "   # merge the population and offsprings\n",
        "   X, Y = np.row_stack([X, _X]), np.concatenate([Y, _Y])\n",
        "   \n",
        "   # perform a duplicate elimination regarding the x values\n",
        "   I = eliminate_duplicates(X)\n",
        "   X, Y = X[I], Y[I]\n",
        "   \n",
        "   # follow the survival of the fittest principle\n",
        "   I = survival(Y, POPULATION_SIZE)\n",
        "   X, Y  = X[I], Y[I]\n",
        "   \n",
        "   # print the best result each generation\n",
        "   print(\"iteration \", k+1, \"int the point:(\", to_int(X[0].astype(int)),\",\",Y[0],\")\")\n",
        "\n",
        "print(\"=========================================\")\n",
        "print(\"the maximum value is: \",to_int(X[0].astype(int)))\n",
        "print(\"=========================================\")"
      ],
      "metadata": {
        "colab": {
          "base_uri": "https://localhost:8080/"
        },
        "id": "3yLPcMLa92ZP",
        "outputId": "eff2548f-bd16-4db1-bc31-19da4cd98a62"
      },
      "execution_count": 192,
      "outputs": [
        {
          "output_type": "stream",
          "name": "stdout",
          "text": [
            "iteration  1 int the point:( 126 , 0.9996988186962042 )\n",
            "iteration  2 int the point:( 126 , 0.9996988186962042 )\n",
            "iteration  3 int the point:( 126 , 0.9996988186962042 )\n",
            "iteration  4 int the point:( 128 , 1.0 )\n",
            "iteration  5 int the point:( 128 , 1.0 )\n",
            "iteration  6 int the point:( 128 , 1.0 )\n",
            "iteration  7 int the point:( 128 , 1.0 )\n",
            "iteration  8 int the point:( 128 , 1.0 )\n",
            "iteration  9 int the point:( 128 , 1.0 )\n",
            "iteration  10 int the point:( 128 , 1.0 )\n",
            "iteration  11 int the point:( 128 , 1.0 )\n",
            "iteration  12 int the point:( 128 , 1.0 )\n",
            "iteration  13 int the point:( 128 , 1.0 )\n",
            "iteration  14 int the point:( 128 , 1.0 )\n",
            "iteration  15 int the point:( 128 , 1.0 )\n",
            "iteration  16 int the point:( 128 , 1.0 )\n",
            "iteration  17 int the point:( 128 , 1.0 )\n",
            "iteration  18 int the point:( 128 , 1.0 )\n",
            "iteration  19 int the point:( 128 , 1.0 )\n",
            "iteration  20 int the point:( 128 , 1.0 )\n",
            "=========================================\n",
            "the maximum value is:  128\n",
            "=========================================\n"
          ]
        }
      ]
    }
  ]
}